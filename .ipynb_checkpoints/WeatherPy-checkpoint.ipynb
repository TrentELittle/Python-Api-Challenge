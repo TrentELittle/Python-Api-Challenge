{
 "cells": [
  {
   "cell_type": "code",
   "execution_count": 1,
   "metadata": {},
   "outputs": [],
   "source": [
    "# Dependencies and Setup\n",
    "import matplotlib.pyplot as plt\n",
    "import pandas as pd\n",
    "import numpy as np\n",
    "import requests\n",
    "import time\n",
    "from scipy.stats import linregress\n",
    "\n",
    "# Import API key\n",
    "from config import g_key\n",
    "from config import open_weather_key\n",
    "\n",
    "# Incorporated citipy to determine city based on latitude and longitude\n",
    "from citipy import citipy\n",
    "\n",
    "# Output File (CSV)\n",
    "output_data_file = \"output_data/cities.csv\"\n",
    "\n",
    "# Range of latitudes and longitudes\n",
    "lat_range = (-90, 90)\n",
    "lng_range = (-180, 180)\n",
    "\n",
    "# URL for Weather Map API\n",
    "url = f\"http://api.openweathermap.org/data/2.5/weather?appid={open_weather_key}&units=imperial&q=\" "
   ]
  },
  {
   "cell_type": "code",
   "execution_count": 2,
   "metadata": {},
   "outputs": [],
   "source": [
    "# Generate Cities List"
   ]
  },
  {
   "cell_type": "code",
   "execution_count": 3,
   "metadata": {},
   "outputs": [
    {
     "data": {
      "text/plain": [
       "610"
      ]
     },
     "execution_count": 3,
     "metadata": {},
     "output_type": "execute_result"
    }
   ],
   "source": [
    "# List for holding lat_lngs and cities\n",
    "lat_lngs = []\n",
    "cities = []\n",
    "\n",
    "# Create a set of random lat and lng combinations\n",
    "lats = np.random.uniform(lat_range[0], lat_range[1], size = 1500)\n",
    "lngs = np.random.uniform(lng_range[0], lng_range[1], size = 1500)\n",
    "lat_lngs = zip(lats, lngs)\n",
    "\n",
    "# Identify nearest city for each lat, lng combination\n",
    "for lat_lng in lat_lngs:\n",
    "    city = citipy.nearest_city(lat_lng[0], lat_lng[1]).city_name\n",
    "    \n",
    "    # If the city is unique, then add it to the cities list\n",
    "    if city not in cities:\n",
    "        cities.append(city)\n",
    "#Print the city count to confirm sufficient count\n",
    "len(cities)\n",
    "    "
   ]
  },
  {
   "cell_type": "code",
   "execution_count": 8,
   "metadata": {},
   "outputs": [
    {
     "name": "stdout",
     "output_type": "stream",
     "text": [
      "['fairbanks', 'pevek', 'norman wells', 'kernersville', 'margate', 'bani walid', 'burnie', 'korla', 'ribeira grande', 'sitka', 'marienburg', 'saskylakh', 'port macquarie', 'sinnamary', 'mar del plata', 'havoysund', 'hermanus', 'new norfolk', 'buraydah', 'belushya guba', 'punta arenas', 'berezniki', 'east london', 'rikitea', 'tsihombe', 'nikolskoye', 'karratha', 'atuona', 'mehamn', 'bambous virieux', 'hailar', 'kenai', 'albany', 'hofn', 'hay river', 'mataura', 'karasjok', 'antofagasta', 'cape town', 'talnakh', 'ust-nera', 'torbay', 'penarroya-pueblonuevo', 'timra', 'farmington', 'kapaa', 'attawapiskat', 'airai', 'cidreira', 'pacific grove', 'cabo san lucas', 'waingapu', 'hobart', 'vigrestad', 'port augusta', 'lagoa', 'corn island', 'marica', 'san patricio', 'balakovo', 'weston', 'khatanga', 'vieques', 'butaritari', 'port elizabeth', 'komsomolskiy', 'morant bay', 'hilo', 'ushuaia', 'okhotsk', 'tuktoyaktuk', 'mount gambier', 'opunake', 'faanui', 'abu samrah', 'bluff', 'ahvaz', 'alofi', 'busselton', 'hithadhoo', 'upernavik', 'barrow', 'urfa', 'mahebourg', 'arica', 'chokurdakh', 'grand river south east', 'shingu', 'castro', 'aklavik', 'saldanha', 'vaini', 'penzance', 'ginda', 'panjab', 'olinda', 'barentsburg', 'kushiro', 'ancud', 'saleaula', 'samusu', 'chillan', 'kushima', 'ararat', 'el alto', 'jamestown', 'te anau', 'nikel', 'dikson', 'tromso', 'tuatapere', 'bilibino', 'kahului', 'bukowno', 'mudkhed', 'san pedro', 'tual', 'sambava', 'paamiut', 'gold coast', 'klaksvik', 'tongzi', 'geraldton', 'canon city', 'akdepe', 'montelimar', 'gravdal', 'batemans bay', 'alice springs', 'lebu', 'taolanaro', 'comodoro rivadavia', 'illoqqortoormiut', 'puerto ayora', 'matamoros', 'isheyevka', 'ayni', 'saint-philippe', 'khasan', 'constitucion', 'georgetown', 'arraial do cabo', 'salalah', 'naberera', 'noumea', 'bredasdorp', 'voh', 'kiunga', 'chuy', 'rohru', 'amderma', 'flinders', 'huacho', 'turan', 'sampit', 'wittingen', 'sentyabrskiy', 'las vegas', 'portland', 'rocha', 'katsuura', 'lavrentiya', 'leningradskiy', 'lompoc', 'hirara', 'kodiak', 'canatlan', 'yellowknife', 'peniche', 'dekar', 'montepulciano', 'ponta do sol', 'bethel', 'kavaratti', 'cayenne', 'ongandjera', 'hovd', 'hanzhong', 'marzuq', 'morondava', 'sola', 'maniitsoq', 'axim', 'pisco', 'iqaluit', 'ituni', 'la ronge', 'port-gentil', 'paita', 'coquimbo', 'clyde river', 'teeli', 'vardo', 'huangnihe', 'cherskiy', 'mathbaria', 'qaanaaq', 'hamilton', 'viking', 'victoria', 'provideniya', 'laguna', 'barranca de upia', 'warri', 'biak', 'solsvik', 'baijiantan', 'pangnirtung', 'port alfred', 'ust-ishim', 'carnarvon', 'vao', 'huarmey', 'tiksi', 'uwayl', 'kolokani', 'palaiokhora', 'igarka', 'loikaw', 'praia da vitoria', 'bathsheba', 'tasiilaq', 'valley city', 'avera', 'tongliao', 'oktyabrskoye', 'mayumba', 'kamra', 'severo-kurilsk', 'bougouni', 'mahibadhoo', 'mbandaka', 'ciudad bolivar', 'pontian kecil', 'quelimane', 'mocambique', 'chifeng', 'lapua', 'presidente olegario', 'kargopol', 'nantucket', 'magadan', 'saint george', 'tumannyy', 'codrington', 'maringa', 'toma', 'kabanjahe', 'dubrovytsya', 'sao joao da barra', 'saint anthony', 'esperance', 'keetmanshoop', 'halmstad', 'nanortalik', 'ostrovnoy', 'port blair', 'turbat', 'jertih', 'avarua', 'honavar', 'sao filipe', 'nizhneyansk', 'dahegam', 'souillac', 'arkhangelsk', 'kirovskiy', 'puerto escondido', 'bengkulu', 'manokwari', 'mantua', 'verkhnevilyuysk', 'filadelfia', 'kamenskoye', 'yelizovo', 'kloulklubed', 'haapu', 'praia', 'sarangani', 'olafsvik', 'warrington', 'saurimo', 'les cayes', 'tarudant', 'klyuchi', 'grand gaube', 'aykhal', 'rungata', 'trairi', 'paragominas', 'luderitz', 'huazolotitlan', 'lahad datu', 'egvekinot', 'dakar', 'fort nelson', 'chapais', 'roald', 'toktogul', 'puri', 'alyangula', 'voroshnevo', 'san jose', 'farafangana', 'lae', 'port-cartier', 'adrar', 'deputatskiy', 'yaring', 'xacmaz', 'tilichiki', 'necochea', 'salekhard', 'yar-sale', 'maketu', 'uthal', 'juneau', 'beringovskiy', 'omboue', 'nishihara', 'teya', 'srednekolymsk', 'haines junction', 'kaeo', 'goundam', 'mocuba', 'cuiluan', 'amahai', 'muddebihal', 'clarksburg', 'nome', 'cockburn town', 'piacabucu', 'cap malheureux', 'nokaneng', 'southbridge', 'marsh harbour', 'kyzyl-suu', 'richards bay', 'rio gallegos', 'sobolevo', 'daru', 'ramanuj ganj', 'grindavik', 'padang', 'mittersill', 'tonota', 'watsa', 'kudahuvadhoo', 'aneho', 'naze', 'pedernales', 'bowen', 'priladozhskiy', 'vestmannaeyjar', 'bagdarin', 'henties bay', 'tucurui', 'udala', 'ishigaki', 'corinto', 'newport', 'baker city', 'marathon', 'campos', 'bauta', 'miramar', 'lolua', 'scottsburgh', 'batticaloa', 'porto novo', 'francistown', 'kismayo', 'balkanabat', 'college', 'zvishavane', 'turayf', 'guna', 'obreja', 'ust-kulom', 'eskasem', 'beruwala', 'tessalit', 'tonekabon', 'ejura', 'fortuna', 'ryotsu', 'puerto baquerizo moreno', 'vaitupu', 'mizdah', 'ye', 'port lincoln', 'twentynine palms', 'laizhou', 'dunedin', 'la libertad', 'usinsk', 'inta', 'hosakote', 'bow island', 'slavgorodskoye', 'maralal', 'palabuhanratu', 'nago', 'shouguang', 'bose', 'vestbygda', 'arauco', 'susehri', 'kavieng', 'magnor', 'barahona', 'tutoia', 'koslan', 'coffs harbour', 'kikwit', 'khash', 'palmer', 'palauig', 'sinjai', 'ola', 'carutapera', 'harper', 'manaure', 'kandrian', 'canico', 'buseresere', 'denpasar', 'northam', 'mount isa', 'georgiyevskoye', 'satitoa', 'voloshka', 'davidson', 'mys shmidta', 'ho chi minh city', 'yumen', 'palu', 'kegayli', 'teguldet', 'bagaces', 'labuhan', 'buta', 'shache', 'maloy', 'turukhansk', 'qandahar', 'moranbah', 'cap-aux-meules', 'newala', 'ahuimanu', 'balad', 'sahrak', 'imbituba', 'conceicao do araguaia', 'rio hato', 'port moresby', 'vostok', 'tevaitoa', 'piddig', 'kytmanovo', 'ahipara', 'tarboro', 'carlyle', 'ogori', 'bela', 'sorong', 'tungkang', 'tra vinh', 'thompson', 'bur gabo', 'hami', 'saint-augustin', 'puertollano', 'tha chang', 'senno', 'namatanai', 'san', 'coihaique', 'kerki', 'acari', 'tura', 'husavik', 'rio grande', 'chernyanka', 'hailey', 'tiznit', 'lang suan', 'kasempa', 'mackay', 'governador valadares', 'binzhou', 'kruisfontein', 'longyearbyen', 'namibe', 'am timan', 'boden', 'orebro', 'vacaria', 'tsogni', 'labuan', 'visby', 'kaspiyskiy', 'privolnaya', 'nurota', 'narsaq', 'sao jose da coroa grande', 'tabiauea', 'kiruna', 'whitehaven', 'bonga', 'jumla', 'ust-kuyga', 'suixi', 'derzhavinsk', 'iseyin', 'guerrero negro', 'honiara', 'tokur', 'ordynskoye', 'malanje', 'hundested', 'chumikan', 'barkly west', 'rosita', 'tarakan', 'mazabuka', 'fort saint john', 'zhezkazgan', 'lima', 'tidore', 'ilembula', 'sargatskoye', 'rawson', 'adet', 'honningsvag', 'sintereag', 'mubi', 'avdon', 'simdega', 'eenhana', 'halalo', 'tiruvottiyur', 'ilulissat', 'tezu', 'yanan', 'lasa', 'hualmay', 'kununurra', 'nelson bay', 'ocos', 'nabire', 'birin', 'soe', 'san lazaro', 'dzhusaly', 'tabas', 'ladario', 'saint-joseph', 'bilma', 'lipari', 'touros', 'kalmunai', 'leh', 'gazanjyk', 'filingue', 'moba', 'plettenberg bay', 'peddapalli', 'umba', 'standish', 'russellville', 'beloha', 'rabo de peixe', 'hambantota', 'cururupu', 'kutum', 'karauzyak', 'jiwani', 'petropavl', 'westport', 'berlevag', 'spornoye', 'nemuro', 'wodonga', 'moron', 'tabuk', 'hunza', 'talcahuano', 'auch', 'santa cruz', 'dubovskoye', 'kuznechnoye', 'digha', 'ixtapa', 'baykit', 'saint-leu', 'ilhabela', 'umm kaddadah', 'mashhad', 'buala', 'kaitangata', 'meulaboh', 'ibotirama', 'marawi', 'chicama', 'nizwa', 'christchurch', 'ndele', 'niamey', 'san cristobal', 'pahrump']\n"
     ]
    }
   ],
   "source": [
    "# Perform a weather check on each city using a series of successive API calls\n",
    "# Create new lists for Data Frame\n",
    "temp = []\n",
    "humidity = []\n",
    "cloudiness = []\n",
    "wind_speed = []\n"
   ]
  },
  {
   "cell_type": "code",
   "execution_count": null,
   "metadata": {},
   "outputs": [],
   "source": []
  }
 ],
 "metadata": {
  "kernelspec": {
   "display_name": "Python 3",
   "language": "python",
   "name": "python3"
  },
  "language_info": {
   "codemirror_mode": {
    "name": "ipython",
    "version": 3
   },
   "file_extension": ".py",
   "mimetype": "text/x-python",
   "name": "python",
   "nbconvert_exporter": "python",
   "pygments_lexer": "ipython3",
   "version": "3.7.6"
  }
 },
 "nbformat": 4,
 "nbformat_minor": 4
}
