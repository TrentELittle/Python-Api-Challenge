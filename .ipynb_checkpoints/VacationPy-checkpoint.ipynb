{
 "cells": [
  {
   "cell_type": "code",
   "execution_count": 4,
   "metadata": {},
   "outputs": [],
   "source": [
    "# Dependencies and Setup\n",
    "import matplotlib.pyplot as plt\n",
    "import pandas as pd\n",
    "import numpy as np\n",
    "import requests\n",
    "import gmaps\n",
    "import os\n",
    "\n",
    "# Import API key\n",
    "from config import g_key"
   ]
  },
  {
   "cell_type": "code",
   "execution_count": 6,
   "metadata": {},
   "outputs": [
    {
     "data": {
      "text/html": [
       "<div>\n",
       "<style scoped>\n",
       "    .dataframe tbody tr th:only-of-type {\n",
       "        vertical-align: middle;\n",
       "    }\n",
       "\n",
       "    .dataframe tbody tr th {\n",
       "        vertical-align: top;\n",
       "    }\n",
       "\n",
       "    .dataframe thead th {\n",
       "        text-align: right;\n",
       "    }\n",
       "</style>\n",
       "<table border=\"1\" class=\"dataframe\">\n",
       "  <thead>\n",
       "    <tr style=\"text-align: right;\">\n",
       "      <th></th>\n",
       "      <th>City</th>\n",
       "      <th>Lat</th>\n",
       "      <th>Long</th>\n",
       "      <th>Max Temp</th>\n",
       "      <th>Humidity</th>\n",
       "      <th>Cloudiness</th>\n",
       "      <th>Wind Speed</th>\n",
       "      <th>Country</th>\n",
       "      <th>Date</th>\n",
       "    </tr>\n",
       "  </thead>\n",
       "  <tbody>\n",
       "    <tr>\n",
       "      <th>0</th>\n",
       "      <td>Isangel</td>\n",
       "      <td>-19.55</td>\n",
       "      <td>169.27</td>\n",
       "      <td>72.72</td>\n",
       "      <td>79</td>\n",
       "      <td>100</td>\n",
       "      <td>11.27</td>\n",
       "      <td>VU</td>\n",
       "      <td>1605982941</td>\n",
       "    </tr>\n",
       "    <tr>\n",
       "      <th>1</th>\n",
       "      <td>Port Alfred</td>\n",
       "      <td>-33.59</td>\n",
       "      <td>26.89</td>\n",
       "      <td>77.14</td>\n",
       "      <td>56</td>\n",
       "      <td>60</td>\n",
       "      <td>14.43</td>\n",
       "      <td>ZA</td>\n",
       "      <td>1605982942</td>\n",
       "    </tr>\n",
       "    <tr>\n",
       "      <th>2</th>\n",
       "      <td>Puerto Ayora</td>\n",
       "      <td>-0.74</td>\n",
       "      <td>-90.35</td>\n",
       "      <td>77.00</td>\n",
       "      <td>73</td>\n",
       "      <td>75</td>\n",
       "      <td>18.34</td>\n",
       "      <td>EC</td>\n",
       "      <td>1605982644</td>\n",
       "    </tr>\n",
       "    <tr>\n",
       "      <th>3</th>\n",
       "      <td>Faanui</td>\n",
       "      <td>-16.48</td>\n",
       "      <td>-151.75</td>\n",
       "      <td>80.01</td>\n",
       "      <td>72</td>\n",
       "      <td>57</td>\n",
       "      <td>9.48</td>\n",
       "      <td>PF</td>\n",
       "      <td>1605982611</td>\n",
       "    </tr>\n",
       "    <tr>\n",
       "      <th>4</th>\n",
       "      <td>Sur</td>\n",
       "      <td>22.57</td>\n",
       "      <td>59.53</td>\n",
       "      <td>71.74</td>\n",
       "      <td>54</td>\n",
       "      <td>0</td>\n",
       "      <td>3.31</td>\n",
       "      <td>OM</td>\n",
       "      <td>1605982572</td>\n",
       "    </tr>\n",
       "  </tbody>\n",
       "</table>\n",
       "</div>"
      ],
      "text/plain": [
       "           City    Lat    Long  Max Temp  Humidity  Cloudiness  Wind Speed  \\\n",
       "0       Isangel -19.55  169.27     72.72        79         100       11.27   \n",
       "1   Port Alfred -33.59   26.89     77.14        56          60       14.43   \n",
       "2  Puerto Ayora  -0.74  -90.35     77.00        73          75       18.34   \n",
       "3        Faanui -16.48 -151.75     80.01        72          57        9.48   \n",
       "4           Sur  22.57   59.53     71.74        54           0        3.31   \n",
       "\n",
       "  Country        Date  \n",
       "0      VU  1605982941  \n",
       "1      ZA  1605982942  \n",
       "2      EC  1605982644  \n",
       "3      PF  1605982611  \n",
       "4      OM  1605982572  "
      ]
     },
     "execution_count": 6,
     "metadata": {},
     "output_type": "execute_result"
    }
   ],
   "source": [
    "# Load the Data.csv exported in WeatherPy to a DF\n",
    "cities_df = pd.read_csv(r'..\\python-api-challenge\\output_data\\data.csv')\n",
    "cities_df.head()"
   ]
  },
  {
   "cell_type": "code",
   "execution_count": 7,
   "metadata": {},
   "outputs": [],
   "source": [
    "#-------------Humidity Heatmap--------------"
   ]
  },
  {
   "cell_type": "code",
   "execution_count": 8,
   "metadata": {},
   "outputs": [],
   "source": [
    "# Configure gmaps\n",
    "gmaps.configure(api_key = g_key)"
   ]
  },
  {
   "cell_type": "code",
   "execution_count": 16,
   "metadata": {},
   "outputs": [],
   "source": [
    "# Use the lat and lng as locations and Humidity as the weight\n",
    "location = cities_df[['Lat', 'Long']]\n",
    "humidity = cities_df['Humidity']\n",
    "# location.head()\n",
    "# humidity.head()"
   ]
  },
  {
   "cell_type": "code",
   "execution_count": 26,
   "metadata": {},
   "outputs": [
    {
     "data": {
      "application/vnd.jupyter.widget-view+json": {
       "model_id": "b62fb5f43cc341c59a98e67a87c62933",
       "version_major": 2,
       "version_minor": 0
      },
      "text/plain": [
       "Figure(layout=FigureLayout(border='1px solid black', height='500px', margin='0 auto 0 auto', padding='1px', wi…"
      ]
     },
     "metadata": {},
     "output_type": "display_data"
    }
   ],
   "source": [
    "# Add Heatmap layer to map\n",
    "layout = {'width': '1000px',\n",
    "          'height': '500px',\n",
    "          'border': '1px solid black',\n",
    "          'padding': '1px',\n",
    "          'margin': '0 auto 0 auto'\n",
    "         }\n",
    "main_map = gmaps.figure(layout=layout,\n",
    "                      zoom_level=2,\n",
    "                      center=(15,25))\n",
    "heat_map = gmaps.heatmap_layer(location, \n",
    "                               weights = humidity,\n",
    "                               dissipating = False,\n",
    "                               max_intensity = 100,\n",
    "                               point_radius = 1.5)\n",
    "main_map.add_layer(heat_map)\n",
    "main_map"
   ]
  },
  {
   "cell_type": "code",
   "execution_count": 24,
   "metadata": {},
   "outputs": [
    {
     "name": "stderr",
     "output_type": "stream",
     "text": [
      "Enabling notebook extension jupyter-gmaps/extension...\n",
      "      - Validating: ok\n"
     ]
    }
   ],
   "source": [
    "!jupyter nbextension enable --py gmaps"
   ]
  }
 ],
 "metadata": {
  "kernelspec": {
   "display_name": "Python 3",
   "language": "python",
   "name": "python3"
  },
  "language_info": {
   "codemirror_mode": {
    "name": "ipython",
    "version": 3
   },
   "file_extension": ".py",
   "mimetype": "text/x-python",
   "name": "python",
   "nbconvert_exporter": "python",
   "pygments_lexer": "ipython3",
   "version": "3.8.3"
  }
 },
 "nbformat": 4,
 "nbformat_minor": 4
}
